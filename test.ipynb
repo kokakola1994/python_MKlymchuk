{
 "cells": [
  {
   "cell_type": "code",
   "execution_count": 1,
   "id": "9047668e",
   "metadata": {},
   "outputs": [
    {
     "name": "stdout",
     "output_type": "stream",
     "text": [
      "5 6 11 0.8333333333333334 25\n"
     ]
    }
   ],
   "source": [
    "a=5\n",
    "b=6\n",
    "c=a+b\n",
    "d=a/b\n",
    "e=a**2\n",
    "\n",
    "print(a,b,c,d,e)"
   ]
  }
 ],
 "metadata": {
  "interpreter": {
   "hash": "8247c3bcfb78e3cf0073ed370f4eacf1d7561103ef6824be5bd640e85bde72f3"
  },
  "kernelspec": {
   "display_name": "Python 3.8.8 64-bit ('base': conda)",
   "name": "python3"
  },
  "language_info": {
   "codemirror_mode": {
    "name": "ipython",
    "version": 3
   },
   "file_extension": ".py",
   "mimetype": "text/x-python",
   "name": "python",
   "nbconvert_exporter": "python",
   "pygments_lexer": "ipython3",
   "version": "3.8.8"
  }
 },
 "nbformat": 4,
 "nbformat_minor": 5
}
